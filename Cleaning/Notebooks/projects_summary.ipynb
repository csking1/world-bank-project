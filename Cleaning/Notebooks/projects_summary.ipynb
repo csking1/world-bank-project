{
 "cells": [
  {
   "cell_type": "code",
   "execution_count": 1,
   "metadata": {
    "collapsed": true
   },
   "outputs": [],
   "source": [
    "import matplotlib\n",
    "%matplotlib inline\n",
    "import pandas as pd\n",
    "import matplotlib.pyplot as plt\n",
    "plt.style.use('ggplot')"
   ]
  },
  {
   "cell_type": "code",
   "execution_count": 3,
   "metadata": {
    "collapsed": true
   },
   "outputs": [],
   "source": [
    "FILE = '../Data/projects.csv'"
   ]
  },
  {
   "cell_type": "code",
   "execution_count": 7,
   "metadata": {
    "collapsed": false
   },
   "outputs": [],
   "source": [
    "# the low memory setting is used to handle mixed data types\n",
    "df = pd.read_csv(FILE, low_memory = False)"
   ]
  },
  {
   "cell_type": "code",
   "execution_count": 8,
   "metadata": {
    "collapsed": false
   },
   "outputs": [
    {
     "data": {
      "text/plain": [
       "(16972, 57)"
      ]
     },
     "execution_count": 8,
     "metadata": {},
     "output_type": "execute_result"
    }
   ],
   "source": [
    "df.shape"
   ]
  },
  {
   "cell_type": "code",
   "execution_count": 10,
   "metadata": {
    "collapsed": false
   },
   "outputs": [
    {
     "data": {
      "text/html": [
       "<div style=\"max-height:1000px;max-width:1500px;overflow:auto;\">\n",
       "<table border=\"1\" class=\"dataframe\">\n",
       "  <thead>\n",
       "    <tr style=\"text-align: right;\">\n",
       "      <th></th>\n",
       "      <th>id</th>\n",
       "      <th>regionname</th>\n",
       "      <th>countryname</th>\n",
       "      <th>prodline</th>\n",
       "      <th>lendinginstr</th>\n",
       "      <th>lendinginstrtype</th>\n",
       "      <th>envassesmentcategorycode</th>\n",
       "      <th>supplementprojectflg</th>\n",
       "      <th>productlinetype</th>\n",
       "      <th>projectstatusdisplay</th>\n",
       "      <th>...</th>\n",
       "      <th>mjtheme3name</th>\n",
       "      <th>mjtheme4name</th>\n",
       "      <th>mjtheme5name</th>\n",
       "      <th>location</th>\n",
       "      <th>GeoLocID</th>\n",
       "      <th>GeoLocName</th>\n",
       "      <th>Latitude</th>\n",
       "      <th>Longitude</th>\n",
       "      <th>Country</th>\n",
       "      <th>Unnamed: 56</th>\n",
       "    </tr>\n",
       "  </thead>\n",
       "  <tbody>\n",
       "    <tr>\n",
       "      <th>0</th>\n",
       "      <td>NaN</td>\n",
       "      <td>Africa</td>\n",
       "      <td>Republic of India;Republic of India</td>\n",
       "      <td>PE</td>\n",
       "      <td>Specific Investment Loan</td>\n",
       "      <td>IN</td>\n",
       "      <td>B</td>\n",
       "      <td>N</td>\n",
       "      <td>L</td>\n",
       "      <td>Closed</td>\n",
       "      <td>...</td>\n",
       "      <td>NaN</td>\n",
       "      <td>NaN</td>\n",
       "      <td>NaN</td>\n",
       "      <td>0000281132!$!Gaza Strip!$!31.41667!$!34.333328...</td>\n",
       "      <td>0000281132;0000285153</td>\n",
       "      <td>Gaza Strip;West Bank</td>\n",
       "      <td>31.41667;31.66667</td>\n",
       "      <td>34.333328;35.25</td>\n",
       "      <td>CN</td>\n",
       "      <td>NaN</td>\n",
       "    </tr>\n",
       "  </tbody>\n",
       "</table>\n",
       "<p>1 rows × 57 columns</p>\n",
       "</div>"
      ],
      "text/plain": [
       "   id regionname                          countryname prodline  \\\n",
       "0 NaN     Africa  Republic of India;Republic of India       PE   \n",
       "\n",
       "               lendinginstr lendinginstrtype envassesmentcategorycode  \\\n",
       "0  Specific Investment Loan               IN                        B   \n",
       "\n",
       "  supplementprojectflg productlinetype projectstatusdisplay     ...      \\\n",
       "0                    N               L               Closed     ...       \n",
       "\n",
       "  mjtheme3name mjtheme4name mjtheme5name  \\\n",
       "0          NaN          NaN          NaN   \n",
       "\n",
       "                                            location               GeoLocID  \\\n",
       "0  0000281132!$!Gaza Strip!$!31.41667!$!34.333328...  0000281132;0000285153   \n",
       "\n",
       "             GeoLocName           Latitude        Longitude Country  \\\n",
       "0  Gaza Strip;West Bank  31.41667;31.66667  34.333328;35.25      CN   \n",
       "\n",
       "  Unnamed: 56  \n",
       "0         NaN  \n",
       "\n",
       "[1 rows x 57 columns]"
      ]
     },
     "execution_count": 10,
     "metadata": {},
     "output_type": "execute_result"
    }
   ],
   "source": [
    "df.mode()"
   ]
  },
  {
   "cell_type": "code",
   "execution_count": 9,
   "metadata": {
    "collapsed": false
   },
   "outputs": [
    {
     "data": {
      "text/plain": [
       "id                              0\n",
       "regionname                      0\n",
       "countryname                     0\n",
       "prodline                        0\n",
       "lendinginstr                  286\n",
       "lendinginstrtype              286\n",
       "envassesmentcategorycode     5332\n",
       "supplementprojectflg           25\n",
       "productlinetype                 0\n",
       "projectstatusdisplay            0\n",
       "status                          0\n",
       "project_name                    0\n",
       "boardapprovaldate            1272\n",
       "board_approval_month         1272\n",
       "closingdate                  2897\n",
       "lendprojectcost                16\n",
       "ibrdcommamt                     0\n",
       "idacommamt                      0\n",
       "totalamt                        0\n",
       "grantamt                        0\n",
       "borrower                     4928\n",
       "impagency                    5143\n",
       "url                             0\n",
       "projectdoc                  16972\n",
       "majorsector_percent         16972\n",
       "sector1                         0\n",
       "sector2                      7965\n",
       "sector3                     10924\n",
       "sector4                     13023\n",
       "sector5                     14530\n",
       "sector                          7\n",
       "mjsector1                   16972\n",
       "mjsector2                   16972\n",
       "mjsector3                   16972\n",
       "mjsector4                   16972\n",
       "mjsector5                   16972\n",
       "mjsector                        7\n",
       "theme1                          0\n",
       "theme2                       7370\n",
       "theme3                       9662\n",
       "theme4                      11813\n",
       "theme5                      14067\n",
       "theme                       16972\n",
       "goal                         5162\n",
       "financier                   10465\n",
       "mjtheme1name                16972\n",
       "mjtheme2name                16972\n",
       "mjtheme3name                16972\n",
       "mjtheme4name                16972\n",
       "mjtheme5name                16972\n",
       "location                    13638\n",
       "GeoLocID                    13638\n",
       "GeoLocName                  13638\n",
       "Latitude                    13638\n",
       "Longitude                   13638\n",
       "Country                     13759\n",
       "Unnamed: 56                 16972\n",
       "dtype: int64"
      ]
     },
     "execution_count": 9,
     "metadata": {},
     "output_type": "execute_result"
    }
   ],
   "source": [
    "df.isnull().sum()"
   ]
  },
  {
   "cell_type": "code",
   "execution_count": 11,
   "metadata": {
    "collapsed": true
   },
   "outputs": [],
   "source": [
    "new = df.fillna(df.mode().iloc[0])"
   ]
  },
  {
   "cell_type": "code",
   "execution_count": null,
   "metadata": {
    "collapsed": false
   },
   "outputs": [],
   "source": []
  },
  {
   "cell_type": "code",
   "execution_count": null,
   "metadata": {
    "collapsed": true
   },
   "outputs": [],
   "source": []
  }
 ],
 "metadata": {
  "kernelspec": {
   "display_name": "Python 2",
   "language": "python",
   "name": "python2"
  },
  "language_info": {
   "codemirror_mode": {
    "name": "ipython",
    "version": 2
   },
   "file_extension": ".py",
   "mimetype": "text/x-python",
   "name": "python",
   "nbconvert_exporter": "python",
   "pygments_lexer": "ipython2",
   "version": "2.7.9"
  }
 },
 "nbformat": 4,
 "nbformat_minor": 0
}
