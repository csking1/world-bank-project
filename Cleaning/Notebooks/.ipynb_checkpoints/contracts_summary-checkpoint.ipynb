{
 "cells": [
  {
   "cell_type": "code",
   "execution_count": 12,
   "metadata": {
    "collapsed": false
   },
   "outputs": [],
   "source": [
    "import matplotlib\n",
    "%matplotlib inline\n",
    "import pandas as pd\n",
    "import matplotlib.pyplot as plt\n",
    "plt.style.use('ggplot')"
   ]
  },
  {
   "cell_type": "code",
   "execution_count": 2,
   "metadata": {
    "collapsed": true
   },
   "outputs": [],
   "source": [
    "FILE = '../Data/contracts.csv'"
   ]
  },
  {
   "cell_type": "code",
   "execution_count": 3,
   "metadata": {
    "collapsed": true
   },
   "outputs": [],
   "source": [
    "df = pd.read_csv(FILE)"
   ]
  },
  {
   "cell_type": "code",
   "execution_count": 5,
   "metadata": {
    "collapsed": false
   },
   "outputs": [
    {
     "data": {
      "text/plain": [
       "(207396, 20)"
      ]
     },
     "execution_count": 5,
     "metadata": {},
     "output_type": "execute_result"
    }
   ],
   "source": [
    "df.shape"
   ]
  },
  {
   "cell_type": "code",
   "execution_count": 6,
   "metadata": {
    "collapsed": false
   },
   "outputs": [
    {
     "data": {
      "text/html": [
       "<div style=\"max-height:1000px;max-width:1500px;overflow:auto;\">\n",
       "<table border=\"1\" class=\"dataframe\">\n",
       "  <thead>\n",
       "    <tr style=\"text-align: right;\">\n",
       "      <th></th>\n",
       "      <th>As of Date</th>\n",
       "      <th>Fiscal Year</th>\n",
       "      <th>Region</th>\n",
       "      <th>Borrower Country</th>\n",
       "      <th>Borrower Country Code</th>\n",
       "      <th>Project ID</th>\n",
       "      <th>Project Name</th>\n",
       "      <th>Procurement Type</th>\n",
       "      <th>Procurement Category</th>\n",
       "      <th>Procurement Method</th>\n",
       "      <th>Product line</th>\n",
       "      <th>Major Sector</th>\n",
       "      <th>WB Contract Number</th>\n",
       "      <th>Contract Description</th>\n",
       "      <th>Contract Signing Date</th>\n",
       "      <th>Supplier</th>\n",
       "      <th>Supplier Country</th>\n",
       "      <th>Supplier Country Code</th>\n",
       "      <th>Total Contract Amount (USD)</th>\n",
       "      <th>Borrower Contract Reference Number</th>\n",
       "    </tr>\n",
       "  </thead>\n",
       "  <tbody>\n",
       "    <tr>\n",
       "      <th>0</th>\n",
       "      <td>03/10/2016 12:00:00 AM</td>\n",
       "      <td>2000</td>\n",
       "      <td>Africa</td>\n",
       "      <td>Africa</td>\n",
       "      <td>3A</td>\n",
       "      <td>P066627</td>\n",
       "      <td>Strengthen Capacity of ACBF to Manage &amp; Operat...</td>\n",
       "      <td>Implementation Activity</td>\n",
       "      <td>Consultant Services</td>\n",
       "      <td>Quality And Cost-Based Selection</td>\n",
       "      <td>Institutional Development Fund</td>\n",
       "      <td>Public Administration, Law, and Justice</td>\n",
       "      <td>1118628</td>\n",
       "      <td>STUDY ON DESIGN AND IMPLEMENTATION ISSUES IN T...</td>\n",
       "      <td>09/13/1999 12:00:00 AM</td>\n",
       "      <td>GRM INTERNATIONAL PTY LTD.</td>\n",
       "      <td>Australia</td>\n",
       "      <td>AU</td>\n",
       "      <td>$280773.00</td>\n",
       "      <td>UNKNOWN</td>\n",
       "    </tr>\n",
       "    <tr>\n",
       "      <th>1</th>\n",
       "      <td>03/10/2016 12:00:00 AM</td>\n",
       "      <td>2000</td>\n",
       "      <td>Africa</td>\n",
       "      <td>Africa</td>\n",
       "      <td>3A</td>\n",
       "      <td>P000003</td>\n",
       "      <td>REIMP(CEN.ENV.INFO)</td>\n",
       "      <td>Implementation Activity</td>\n",
       "      <td>Consultant Services</td>\n",
       "      <td>Quality And Cost-Based Selection</td>\n",
       "      <td>Global Environment Project</td>\n",
       "      <td>Information and communications</td>\n",
       "      <td>1121985</td>\n",
       "      <td>FINANCIAL AUDIT</td>\n",
       "      <td>01/15/2000 12:00:00 AM</td>\n",
       "      <td>CALAN RAMOLINO GABON</td>\n",
       "      <td>Gabon</td>\n",
       "      <td>GA</td>\n",
       "      <td>$5193.00</td>\n",
       "      <td>ADIE-GEF-UR-014-02</td>\n",
       "    </tr>\n",
       "    <tr>\n",
       "      <th>2</th>\n",
       "      <td>03/10/2016 12:00:00 AM</td>\n",
       "      <td>2000</td>\n",
       "      <td>Africa</td>\n",
       "      <td>Africa</td>\n",
       "      <td>3A</td>\n",
       "      <td>P000001</td>\n",
       "      <td>West Africa Pilot Community-based Natural Reso...</td>\n",
       "      <td>Feasibility studies, Design Studies</td>\n",
       "      <td>Consultant Services</td>\n",
       "      <td>Selection Based on Consultant's Qualifications</td>\n",
       "      <td>Global Environment Project</td>\n",
       "      <td>Health and other social services</td>\n",
       "      <td>1216738</td>\n",
       "      <td>FEASABILITY STUDIES OF HYDRO FARM'DAMS</td>\n",
       "      <td>07/19/2001 12:00:00 AM</td>\n",
       "      <td>TERRABO EXPERTISE ET ETUDES</td>\n",
       "      <td>Cote d'Ivoire</td>\n",
       "      <td>CI</td>\n",
       "      <td>$19505.00</td>\n",
       "      <td>2001010034</td>\n",
       "    </tr>\n",
       "    <tr>\n",
       "      <th>3</th>\n",
       "      <td>03/10/2016 12:00:00 AM</td>\n",
       "      <td>2000</td>\n",
       "      <td>Africa</td>\n",
       "      <td>Africa</td>\n",
       "      <td>3A</td>\n",
       "      <td>P000001</td>\n",
       "      <td>West Africa Pilot Community-based Natural Reso...</td>\n",
       "      <td>Feasibility studies, Design Studies</td>\n",
       "      <td>Consultant Services</td>\n",
       "      <td>Selection Based on Consultant's Qualifications</td>\n",
       "      <td>Global Environment Project</td>\n",
       "      <td>Agriculture, fishing, and forestry</td>\n",
       "      <td>1216738</td>\n",
       "      <td>FEASABILITY STUDIES OF HYDRO FARM'DAMS</td>\n",
       "      <td>07/19/2001 12:00:00 AM</td>\n",
       "      <td>TERRABO EXPERTISE ET ETUDES</td>\n",
       "      <td>Cote d'Ivoire</td>\n",
       "      <td>CI</td>\n",
       "      <td>$16504.00</td>\n",
       "      <td>2001010034</td>\n",
       "    </tr>\n",
       "    <tr>\n",
       "      <th>4</th>\n",
       "      <td>03/10/2016 12:00:00 AM</td>\n",
       "      <td>2000</td>\n",
       "      <td>Africa</td>\n",
       "      <td>Africa</td>\n",
       "      <td>3A</td>\n",
       "      <td>P000003</td>\n",
       "      <td>REIMP(CEN.ENV.INFO)</td>\n",
       "      <td>Implementation Activity</td>\n",
       "      <td>Consultant Services</td>\n",
       "      <td>Quality And Cost-Based Selection</td>\n",
       "      <td>Global Environment Project</td>\n",
       "      <td>Health and other social services</td>\n",
       "      <td>1209209</td>\n",
       "      <td>ENVIRONMENTAL METADATABASE ADJUSTMENT &amp; MONITO...</td>\n",
       "      <td>11/15/1999 12:00:00 AM</td>\n",
       "      <td>RALPH-MICHEAL RIDDER</td>\n",
       "      <td>Gabon</td>\n",
       "      <td>GA</td>\n",
       "      <td>$4844.00</td>\n",
       "      <td>A.D.I.E.-GEF-UR-025</td>\n",
       "    </tr>\n",
       "  </tbody>\n",
       "</table>\n",
       "</div>"
      ],
      "text/plain": [
       "               As of Date  Fiscal Year  Region Borrower Country  \\\n",
       "0  03/10/2016 12:00:00 AM         2000  Africa           Africa   \n",
       "1  03/10/2016 12:00:00 AM         2000  Africa           Africa   \n",
       "2  03/10/2016 12:00:00 AM         2000  Africa           Africa   \n",
       "3  03/10/2016 12:00:00 AM         2000  Africa           Africa   \n",
       "4  03/10/2016 12:00:00 AM         2000  Africa           Africa   \n",
       "\n",
       "  Borrower Country Code Project ID  \\\n",
       "0                    3A    P066627   \n",
       "1                    3A    P000003   \n",
       "2                    3A    P000001   \n",
       "3                    3A    P000001   \n",
       "4                    3A    P000003   \n",
       "\n",
       "                                        Project Name  \\\n",
       "0  Strengthen Capacity of ACBF to Manage & Operat...   \n",
       "1                                REIMP(CEN.ENV.INFO)   \n",
       "2  West Africa Pilot Community-based Natural Reso...   \n",
       "3  West Africa Pilot Community-based Natural Reso...   \n",
       "4                                REIMP(CEN.ENV.INFO)   \n",
       "\n",
       "                      Procurement Type Procurement Category  \\\n",
       "0              Implementation Activity  Consultant Services   \n",
       "1              Implementation Activity  Consultant Services   \n",
       "2  Feasibility studies, Design Studies  Consultant Services   \n",
       "3  Feasibility studies, Design Studies  Consultant Services   \n",
       "4              Implementation Activity  Consultant Services   \n",
       "\n",
       "                               Procurement Method  \\\n",
       "0                Quality And Cost-Based Selection   \n",
       "1                Quality And Cost-Based Selection   \n",
       "2  Selection Based on Consultant's Qualifications   \n",
       "3  Selection Based on Consultant's Qualifications   \n",
       "4                Quality And Cost-Based Selection   \n",
       "\n",
       "                     Product line                             Major Sector  \\\n",
       "0  Institutional Development Fund  Public Administration, Law, and Justice   \n",
       "1      Global Environment Project           Information and communications   \n",
       "2      Global Environment Project         Health and other social services   \n",
       "3      Global Environment Project       Agriculture, fishing, and forestry   \n",
       "4      Global Environment Project         Health and other social services   \n",
       "\n",
       "   WB Contract Number                               Contract Description  \\\n",
       "0             1118628  STUDY ON DESIGN AND IMPLEMENTATION ISSUES IN T...   \n",
       "1             1121985                                    FINANCIAL AUDIT   \n",
       "2             1216738             FEASABILITY STUDIES OF HYDRO FARM'DAMS   \n",
       "3             1216738             FEASABILITY STUDIES OF HYDRO FARM'DAMS   \n",
       "4             1209209  ENVIRONMENTAL METADATABASE ADJUSTMENT & MONITO...   \n",
       "\n",
       "    Contract Signing Date                     Supplier Supplier Country  \\\n",
       "0  09/13/1999 12:00:00 AM   GRM INTERNATIONAL PTY LTD.        Australia   \n",
       "1  01/15/2000 12:00:00 AM         CALAN RAMOLINO GABON            Gabon   \n",
       "2  07/19/2001 12:00:00 AM  TERRABO EXPERTISE ET ETUDES    Cote d'Ivoire   \n",
       "3  07/19/2001 12:00:00 AM  TERRABO EXPERTISE ET ETUDES    Cote d'Ivoire   \n",
       "4  11/15/1999 12:00:00 AM         RALPH-MICHEAL RIDDER            Gabon   \n",
       "\n",
       "  Supplier Country Code Total Contract Amount (USD)  \\\n",
       "0                    AU                  $280773.00   \n",
       "1                    GA                    $5193.00   \n",
       "2                    CI                   $19505.00   \n",
       "3                    CI                   $16504.00   \n",
       "4                    GA                    $4844.00   \n",
       "\n",
       "  Borrower Contract Reference Number  \n",
       "0                            UNKNOWN  \n",
       "1                 ADIE-GEF-UR-014-02  \n",
       "2                         2001010034  \n",
       "3                         2001010034  \n",
       "4                A.D.I.E.-GEF-UR-025  "
      ]
     },
     "execution_count": 6,
     "metadata": {},
     "output_type": "execute_result"
    }
   ],
   "source": [
    "df.head()"
   ]
  },
  {
   "cell_type": "code",
   "execution_count": 14,
   "metadata": {
    "collapsed": false
   },
   "outputs": [
    {
     "data": {
      "text/html": [
       "<div style=\"max-height:1000px;max-width:1500px;overflow:auto;\">\n",
       "<table border=\"1\" class=\"dataframe\">\n",
       "  <thead>\n",
       "    <tr style=\"text-align: right;\">\n",
       "      <th></th>\n",
       "      <th>Fiscal Year</th>\n",
       "      <th>WB Contract Number</th>\n",
       "    </tr>\n",
       "  </thead>\n",
       "  <tbody>\n",
       "    <tr>\n",
       "      <th>count</th>\n",
       "      <td>207396.000000</td>\n",
       "      <td>207396.000000</td>\n",
       "    </tr>\n",
       "    <tr>\n",
       "      <th>mean</th>\n",
       "      <td>2006.601256</td>\n",
       "      <td>1289566.751008</td>\n",
       "    </tr>\n",
       "    <tr>\n",
       "      <th>std</th>\n",
       "      <td>4.871531</td>\n",
       "      <td>106763.661165</td>\n",
       "    </tr>\n",
       "    <tr>\n",
       "      <th>min</th>\n",
       "      <td>2000.000000</td>\n",
       "      <td>1100552.000000</td>\n",
       "    </tr>\n",
       "    <tr>\n",
       "      <th>25%</th>\n",
       "      <td>2002.000000</td>\n",
       "      <td>1222988.000000</td>\n",
       "    </tr>\n",
       "    <tr>\n",
       "      <th>50%</th>\n",
       "      <td>2006.000000</td>\n",
       "      <td>1256783.000000</td>\n",
       "    </tr>\n",
       "    <tr>\n",
       "      <th>75%</th>\n",
       "      <td>2011.000000</td>\n",
       "      <td>1308758.250000</td>\n",
       "    </tr>\n",
       "    <tr>\n",
       "      <th>max</th>\n",
       "      <td>2016.000000</td>\n",
       "      <td>1539189.000000</td>\n",
       "    </tr>\n",
       "  </tbody>\n",
       "</table>\n",
       "</div>"
      ],
      "text/plain": [
       "         Fiscal Year  WB Contract Number\n",
       "count  207396.000000       207396.000000\n",
       "mean     2006.601256      1289566.751008\n",
       "std         4.871531       106763.661165\n",
       "min      2000.000000      1100552.000000\n",
       "25%      2002.000000      1222988.000000\n",
       "50%      2006.000000      1256783.000000\n",
       "75%      2011.000000      1308758.250000\n",
       "max      2016.000000      1539189.000000"
      ]
     },
     "execution_count": 14,
     "metadata": {},
     "output_type": "execute_result"
    }
   ],
   "source": [
    "df.describe()"
   ]
  },
  {
   "cell_type": "code",
   "execution_count": 21,
   "metadata": {
    "collapsed": false
   },
   "outputs": [
    {
     "data": {
      "text/plain": [
       "array([[<matplotlib.axes._subplots.AxesSubplot object at 0x11be3bfd0>,\n",
       "        <matplotlib.axes._subplots.AxesSubplot object at 0x11b631d50>]], dtype=object)"
      ]
     },
     "execution_count": 21,
     "metadata": {},
     "output_type": "execute_result"
    },
    {
     "data": {
      "image/png": "[encoded data removed]",
      "text/plain": [
       "<matplotlib.figure.Figure at 0x11be21e90>"
      ]
     },
     "metadata": {},
     "output_type": "display_data"
    }
   ],
   "source": [
    "df.hist()"
   ]
  },
  {
   "cell_type": "code",
   "execution_count": null,
   "metadata": {
    "collapsed": false
   },
   "outputs": [],
   "source": [
    "# df.apply(pd.value_counts).plot(kind='bar', subplots=True)"
   ]
  },
  {
   "cell_type": "code",
   "execution_count": null,
   "metadata": {
    "collapsed": true
   },
   "outputs": [],
   "source": []
  }
 ],
 "metadata": {
  "kernelspec": {
   "display_name": "Python 2",
   "language": "python",
   "name": "python2"
  },
  "language_info": {
   "codemirror_mode": {
    "name": "ipython",
    "version": 2
   },
   "file_extension": ".py",
   "mimetype": "text/x-python",
   "name": "python",
   "nbconvert_exporter": "python",
   "pygments_lexer": "ipython2",
   "version": "2.7.9"
  }
 },
 "nbformat": 4,
 "nbformat_minor": 0
}
