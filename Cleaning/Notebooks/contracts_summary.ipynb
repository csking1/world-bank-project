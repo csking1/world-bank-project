{
 "cells": [
  {
   "cell_type": "code",
   "execution_count": 1,
   "metadata": {
    "collapsed": false
   },
   "outputs": [],
   "source": [
    "import matplotlib\n",
    "%matplotlib inline\n",
    "import pandas as pd\n",
    "import matplotlib.pyplot as plt\n",
    "plt.style.use('ggplot')"
   ]
  },
  {
   "cell_type": "code",
   "execution_count": 2,
   "metadata": {
    "collapsed": true
   },
   "outputs": [],
   "source": [
    "FILE = '../Data/contracts.csv'"
   ]
  },
  {
   "cell_type": "code",
   "execution_count": 3,
   "metadata": {
    "collapsed": true
   },
   "outputs": [],
   "source": [
    "df = pd.read_csv(FILE)"
   ]
  },
  {
   "cell_type": "code",
   "execution_count": 4,
   "metadata": {
    "collapsed": false
   },
   "outputs": [
    {
     "data": {
      "text/plain": [
       "(207396, 20)"
      ]
     },
     "execution_count": 4,
     "metadata": {},
     "output_type": "execute_result"
    }
   ],
   "source": [
    "df.shape"
   ]
  },
  {
   "cell_type": "code",
   "execution_count": 6,
   "metadata": {
    "collapsed": false
   },
   "outputs": [
    {
     "data": {
      "text/html": [
       "<div style=\"max-height:1000px;max-width:1500px;overflow:auto;\">\n",
       "<table border=\"1\" class=\"dataframe\">\n",
       "  <thead>\n",
       "    <tr style=\"text-align: right;\">\n",
       "      <th></th>\n",
       "      <th>As of Date</th>\n",
       "      <th>Fiscal Year</th>\n",
       "      <th>Region</th>\n",
       "      <th>Borrower Country</th>\n",
       "      <th>Borrower Country Code</th>\n",
       "      <th>Project ID</th>\n",
       "      <th>Project Name</th>\n",
       "      <th>Procurement Type</th>\n",
       "      <th>Procurement Category</th>\n",
       "      <th>Procurement Method</th>\n",
       "      <th>Product line</th>\n",
       "      <th>Major Sector</th>\n",
       "      <th>WB Contract Number</th>\n",
       "      <th>Contract Description</th>\n",
       "      <th>Contract Signing Date</th>\n",
       "      <th>Supplier</th>\n",
       "      <th>Supplier Country</th>\n",
       "      <th>Supplier Country Code</th>\n",
       "      <th>Total Contract Amount (USD)</th>\n",
       "      <th>Borrower Contract Reference Number</th>\n",
       "    </tr>\n",
       "  </thead>\n",
       "  <tbody>\n",
       "    <tr>\n",
       "      <th>count</th>\n",
       "      <td>207396</td>\n",
       "      <td>207396.000000</td>\n",
       "      <td>207396</td>\n",
       "      <td>207382</td>\n",
       "      <td>207386</td>\n",
       "      <td>207396</td>\n",
       "      <td>207396</td>\n",
       "      <td>207396</td>\n",
       "      <td>207396</td>\n",
       "      <td>207396</td>\n",
       "      <td>207396</td>\n",
       "      <td>207396</td>\n",
       "      <td>207396.000000</td>\n",
       "      <td>204416</td>\n",
       "      <td>207193</td>\n",
       "      <td>207352</td>\n",
       "      <td>207396</td>\n",
       "      <td>207379</td>\n",
       "      <td>207396</td>\n",
       "      <td>200577</td>\n",
       "    </tr>\n",
       "    <tr>\n",
       "      <th>unique</th>\n",
       "      <td>1</td>\n",
       "      <td>NaN</td>\n",
       "      <td>8</td>\n",
       "      <td>174</td>\n",
       "      <td>173</td>\n",
       "      <td>6468</td>\n",
       "      <td>7913</td>\n",
       "      <td>70</td>\n",
       "      <td>4</td>\n",
       "      <td>15</td>\n",
       "      <td>16</td>\n",
       "      <td>22</td>\n",
       "      <td>NaN</td>\n",
       "      <td>119421</td>\n",
       "      <td>6106</td>\n",
       "      <td>75163</td>\n",
       "      <td>209</td>\n",
       "      <td>207</td>\n",
       "      <td>137117</td>\n",
       "      <td>120288</td>\n",
       "    </tr>\n",
       "    <tr>\n",
       "      <th>top</th>\n",
       "      <td>03/10/2016 12:00:00 AM</td>\n",
       "      <td>NaN</td>\n",
       "      <td>Africa</td>\n",
       "      <td>China</td>\n",
       "      <td>CN</td>\n",
       "      <td>P070995</td>\n",
       "      <td>Community Development Project</td>\n",
       "      <td>Management Advice, Technical/Operation A</td>\n",
       "      <td>Consultant Services</td>\n",
       "      <td>International Competitive Bidding</td>\n",
       "      <td>IBRD/IDA</td>\n",
       "      <td>Public Administration, Law, and Justice</td>\n",
       "      <td>NaN</td>\n",
       "      <td>MEDICAL EQUIPMENT</td>\n",
       "      <td>06/25/2003 12:00:00 AM</td>\n",
       "      <td>INDIVIDUAL CONSULTANT</td>\n",
       "      <td>India</td>\n",
       "      <td>IN</td>\n",
       "      <td>$12000.00</td>\n",
       "      <td>#</td>\n",
       "    </tr>\n",
       "    <tr>\n",
       "      <th>freq</th>\n",
       "      <td>207396</td>\n",
       "      <td>NaN</td>\n",
       "      <td>49939</td>\n",
       "      <td>11423</td>\n",
       "      <td>11423</td>\n",
       "      <td>1285</td>\n",
       "      <td>1365</td>\n",
       "      <td>23948</td>\n",
       "      <td>100777</td>\n",
       "      <td>49517</td>\n",
       "      <td>184484</td>\n",
       "      <td>50825</td>\n",
       "      <td>NaN</td>\n",
       "      <td>401</td>\n",
       "      <td>269</td>\n",
       "      <td>26618</td>\n",
       "      <td>11967</td>\n",
       "      <td>11967</td>\n",
       "      <td>265</td>\n",
       "      <td>7338</td>\n",
       "    </tr>\n",
       "    <tr>\n",
       "      <th>mean</th>\n",
       "      <td>NaN</td>\n",
       "      <td>2006.601256</td>\n",
       "      <td>NaN</td>\n",
       "      <td>NaN</td>\n",
       "      <td>NaN</td>\n",
       "      <td>NaN</td>\n",
       "      <td>NaN</td>\n",
       "      <td>NaN</td>\n",
       "      <td>NaN</td>\n",
       "      <td>NaN</td>\n",
       "      <td>NaN</td>\n",
       "      <td>NaN</td>\n",
       "      <td>1289566.751008</td>\n",
       "      <td>NaN</td>\n",
       "      <td>NaN</td>\n",
       "      <td>NaN</td>\n",
       "      <td>NaN</td>\n",
       "      <td>NaN</td>\n",
       "      <td>NaN</td>\n",
       "      <td>NaN</td>\n",
       "    </tr>\n",
       "    <tr>\n",
       "      <th>std</th>\n",
       "      <td>NaN</td>\n",
       "      <td>4.871531</td>\n",
       "      <td>NaN</td>\n",
       "      <td>NaN</td>\n",
       "      <td>NaN</td>\n",
       "      <td>NaN</td>\n",
       "      <td>NaN</td>\n",
       "      <td>NaN</td>\n",
       "      <td>NaN</td>\n",
       "      <td>NaN</td>\n",
       "      <td>NaN</td>\n",
       "      <td>NaN</td>\n",
       "      <td>106763.661165</td>\n",
       "      <td>NaN</td>\n",
       "      <td>NaN</td>\n",
       "      <td>NaN</td>\n",
       "      <td>NaN</td>\n",
       "      <td>NaN</td>\n",
       "      <td>NaN</td>\n",
       "      <td>NaN</td>\n",
       "    </tr>\n",
       "    <tr>\n",
       "      <th>min</th>\n",
       "      <td>NaN</td>\n",
       "      <td>2000.000000</td>\n",
       "      <td>NaN</td>\n",
       "      <td>NaN</td>\n",
       "      <td>NaN</td>\n",
       "      <td>NaN</td>\n",
       "      <td>NaN</td>\n",
       "      <td>NaN</td>\n",
       "      <td>NaN</td>\n",
       "      <td>NaN</td>\n",
       "      <td>NaN</td>\n",
       "      <td>NaN</td>\n",
       "      <td>1100552.000000</td>\n",
       "      <td>NaN</td>\n",
       "      <td>NaN</td>\n",
       "      <td>NaN</td>\n",
       "      <td>NaN</td>\n",
       "      <td>NaN</td>\n",
       "      <td>NaN</td>\n",
       "      <td>NaN</td>\n",
       "    </tr>\n",
       "    <tr>\n",
       "      <th>25%</th>\n",
       "      <td>NaN</td>\n",
       "      <td>2002.000000</td>\n",
       "      <td>NaN</td>\n",
       "      <td>NaN</td>\n",
       "      <td>NaN</td>\n",
       "      <td>NaN</td>\n",
       "      <td>NaN</td>\n",
       "      <td>NaN</td>\n",
       "      <td>NaN</td>\n",
       "      <td>NaN</td>\n",
       "      <td>NaN</td>\n",
       "      <td>NaN</td>\n",
       "      <td>1222988.000000</td>\n",
       "      <td>NaN</td>\n",
       "      <td>NaN</td>\n",
       "      <td>NaN</td>\n",
       "      <td>NaN</td>\n",
       "      <td>NaN</td>\n",
       "      <td>NaN</td>\n",
       "      <td>NaN</td>\n",
       "    </tr>\n",
       "    <tr>\n",
       "      <th>50%</th>\n",
       "      <td>NaN</td>\n",
       "      <td>2006.000000</td>\n",
       "      <td>NaN</td>\n",
       "      <td>NaN</td>\n",
       "      <td>NaN</td>\n",
       "      <td>NaN</td>\n",
       "      <td>NaN</td>\n",
       "      <td>NaN</td>\n",
       "      <td>NaN</td>\n",
       "      <td>NaN</td>\n",
       "      <td>NaN</td>\n",
       "      <td>NaN</td>\n",
       "      <td>1256783.000000</td>\n",
       "      <td>NaN</td>\n",
       "      <td>NaN</td>\n",
       "      <td>NaN</td>\n",
       "      <td>NaN</td>\n",
       "      <td>NaN</td>\n",
       "      <td>NaN</td>\n",
       "      <td>NaN</td>\n",
       "    </tr>\n",
       "    <tr>\n",
       "      <th>75%</th>\n",
       "      <td>NaN</td>\n",
       "      <td>2011.000000</td>\n",
       "      <td>NaN</td>\n",
       "      <td>NaN</td>\n",
       "      <td>NaN</td>\n",
       "      <td>NaN</td>\n",
       "      <td>NaN</td>\n",
       "      <td>NaN</td>\n",
       "      <td>NaN</td>\n",
       "      <td>NaN</td>\n",
       "      <td>NaN</td>\n",
       "      <td>NaN</td>\n",
       "      <td>1308758.250000</td>\n",
       "      <td>NaN</td>\n",
       "      <td>NaN</td>\n",
       "      <td>NaN</td>\n",
       "      <td>NaN</td>\n",
       "      <td>NaN</td>\n",
       "      <td>NaN</td>\n",
       "      <td>NaN</td>\n",
       "    </tr>\n",
       "    <tr>\n",
       "      <th>max</th>\n",
       "      <td>NaN</td>\n",
       "      <td>2016.000000</td>\n",
       "      <td>NaN</td>\n",
       "      <td>NaN</td>\n",
       "      <td>NaN</td>\n",
       "      <td>NaN</td>\n",
       "      <td>NaN</td>\n",
       "      <td>NaN</td>\n",
       "      <td>NaN</td>\n",
       "      <td>NaN</td>\n",
       "      <td>NaN</td>\n",
       "      <td>NaN</td>\n",
       "      <td>1539189.000000</td>\n",
       "      <td>NaN</td>\n",
       "      <td>NaN</td>\n",
       "      <td>NaN</td>\n",
       "      <td>NaN</td>\n",
       "      <td>NaN</td>\n",
       "      <td>NaN</td>\n",
       "      <td>NaN</td>\n",
       "    </tr>\n",
       "  </tbody>\n",
       "</table>\n",
       "</div>"
      ],
      "text/plain": [
       "                    As of Date    Fiscal Year  Region Borrower Country  \\\n",
       "count                   207396  207396.000000  207396           207382   \n",
       "unique                       1            NaN       8              174   \n",
       "top     03/10/2016 12:00:00 AM            NaN  Africa            China   \n",
       "freq                    207396            NaN   49939            11423   \n",
       "mean                       NaN    2006.601256     NaN              NaN   \n",
       "std                        NaN       4.871531     NaN              NaN   \n",
       "min                        NaN    2000.000000     NaN              NaN   \n",
       "25%                        NaN    2002.000000     NaN              NaN   \n",
       "50%                        NaN    2006.000000     NaN              NaN   \n",
       "75%                        NaN    2011.000000     NaN              NaN   \n",
       "max                        NaN    2016.000000     NaN              NaN   \n",
       "\n",
       "       Borrower Country Code Project ID                   Project Name  \\\n",
       "count                 207386     207396                         207396   \n",
       "unique                   173       6468                           7913   \n",
       "top                       CN    P070995  Community Development Project   \n",
       "freq                   11423       1285                           1365   \n",
       "mean                     NaN        NaN                            NaN   \n",
       "std                      NaN        NaN                            NaN   \n",
       "min                      NaN        NaN                            NaN   \n",
       "25%                      NaN        NaN                            NaN   \n",
       "50%                      NaN        NaN                            NaN   \n",
       "75%                      NaN        NaN                            NaN   \n",
       "max                      NaN        NaN                            NaN   \n",
       "\n",
       "                                Procurement Type Procurement Category  \\\n",
       "count                                     207396               207396   \n",
       "unique                                        70                    4   \n",
       "top     Management Advice, Technical/Operation A  Consultant Services   \n",
       "freq                                       23948               100777   \n",
       "mean                                         NaN                  NaN   \n",
       "std                                          NaN                  NaN   \n",
       "min                                          NaN                  NaN   \n",
       "25%                                          NaN                  NaN   \n",
       "50%                                          NaN                  NaN   \n",
       "75%                                          NaN                  NaN   \n",
       "max                                          NaN                  NaN   \n",
       "\n",
       "                       Procurement Method Product line  \\\n",
       "count                              207396       207396   \n",
       "unique                                 15           16   \n",
       "top     International Competitive Bidding     IBRD/IDA   \n",
       "freq                                49517       184484   \n",
       "mean                                  NaN          NaN   \n",
       "std                                   NaN          NaN   \n",
       "min                                   NaN          NaN   \n",
       "25%                                   NaN          NaN   \n",
       "50%                                   NaN          NaN   \n",
       "75%                                   NaN          NaN   \n",
       "max                                   NaN          NaN   \n",
       "\n",
       "                                   Major Sector  WB Contract Number  \\\n",
       "count                                    207396       207396.000000   \n",
       "unique                                       22                 NaN   \n",
       "top     Public Administration, Law, and Justice                 NaN   \n",
       "freq                                      50825                 NaN   \n",
       "mean                                        NaN      1289566.751008   \n",
       "std                                         NaN       106763.661165   \n",
       "min                                         NaN      1100552.000000   \n",
       "25%                                         NaN      1222988.000000   \n",
       "50%                                         NaN      1256783.000000   \n",
       "75%                                         NaN      1308758.250000   \n",
       "max                                         NaN      1539189.000000   \n",
       "\n",
       "       Contract Description   Contract Signing Date               Supplier  \\\n",
       "count                204416                  207193                 207352   \n",
       "unique               119421                    6106                  75163   \n",
       "top       MEDICAL EQUIPMENT  06/25/2003 12:00:00 AM  INDIVIDUAL CONSULTANT   \n",
       "freq                    401                     269                  26618   \n",
       "mean                    NaN                     NaN                    NaN   \n",
       "std                     NaN                     NaN                    NaN   \n",
       "min                     NaN                     NaN                    NaN   \n",
       "25%                     NaN                     NaN                    NaN   \n",
       "50%                     NaN                     NaN                    NaN   \n",
       "75%                     NaN                     NaN                    NaN   \n",
       "max                     NaN                     NaN                    NaN   \n",
       "\n",
       "       Supplier Country Supplier Country Code Total Contract Amount (USD)  \\\n",
       "count            207396                207379                      207396   \n",
       "unique              209                   207                      137117   \n",
       "top               India                    IN                   $12000.00   \n",
       "freq              11967                 11967                         265   \n",
       "mean                NaN                   NaN                         NaN   \n",
       "std                 NaN                   NaN                         NaN   \n",
       "min                 NaN                   NaN                         NaN   \n",
       "25%                 NaN                   NaN                         NaN   \n",
       "50%                 NaN                   NaN                         NaN   \n",
       "75%                 NaN                   NaN                         NaN   \n",
       "max                 NaN                   NaN                         NaN   \n",
       "\n",
       "       Borrower Contract Reference Number  \n",
       "count                              200577  \n",
       "unique                             120288  \n",
       "top                                     #  \n",
       "freq                                 7338  \n",
       "mean                                  NaN  \n",
       "std                                   NaN  \n",
       "min                                   NaN  \n",
       "25%                                   NaN  \n",
       "50%                                   NaN  \n",
       "75%                                   NaN  \n",
       "max                                   NaN  "
      ]
     },
     "execution_count": 6,
     "metadata": {},
     "output_type": "execute_result"
    }
   ],
   "source": [
    "df.describe(include=\"all\")"
   ]
  },
  {
   "cell_type": "code",
   "execution_count": 7,
   "metadata": {
    "collapsed": false
   },
   "outputs": [
    {
     "data": {
      "text/html": [
       "<div style=\"max-height:1000px;max-width:1500px;overflow:auto;\">\n",
       "<table border=\"1\" class=\"dataframe\">\n",
       "  <thead>\n",
       "    <tr style=\"text-align: right;\">\n",
       "      <th></th>\n",
       "      <th>As of Date</th>\n",
       "      <th>Fiscal Year</th>\n",
       "      <th>Region</th>\n",
       "      <th>Borrower Country</th>\n",
       "      <th>Borrower Country Code</th>\n",
       "      <th>Project ID</th>\n",
       "      <th>Project Name</th>\n",
       "      <th>Procurement Type</th>\n",
       "      <th>Procurement Category</th>\n",
       "      <th>Procurement Method</th>\n",
       "      <th>Product line</th>\n",
       "      <th>Major Sector</th>\n",
       "      <th>WB Contract Number</th>\n",
       "      <th>Contract Description</th>\n",
       "      <th>Contract Signing Date</th>\n",
       "      <th>Supplier</th>\n",
       "      <th>Supplier Country</th>\n",
       "      <th>Supplier Country Code</th>\n",
       "      <th>Total Contract Amount (USD)</th>\n",
       "      <th>Borrower Contract Reference Number</th>\n",
       "    </tr>\n",
       "  </thead>\n",
       "  <tbody>\n",
       "    <tr>\n",
       "      <th>0</th>\n",
       "      <td>03/10/2016 12:00:00 AM</td>\n",
       "      <td>2000</td>\n",
       "      <td>Africa</td>\n",
       "      <td>China</td>\n",
       "      <td>CN</td>\n",
       "      <td>P070995</td>\n",
       "      <td>Community Development Project</td>\n",
       "      <td>Management Advice, Technical/Operation A</td>\n",
       "      <td>Consultant Services</td>\n",
       "      <td>International Competitive Bidding</td>\n",
       "      <td>IBRD/IDA</td>\n",
       "      <td>Public Administration, Law, and Justice</td>\n",
       "      <td>1211537</td>\n",
       "      <td>MEDICAL EQUIPMENT</td>\n",
       "      <td>06/25/2003 12:00:00 AM</td>\n",
       "      <td>INDIVIDUAL CONSULTANT</td>\n",
       "      <td>India</td>\n",
       "      <td>IN</td>\n",
       "      <td>$12000.00</td>\n",
       "      <td>#</td>\n",
       "    </tr>\n",
       "  </tbody>\n",
       "</table>\n",
       "</div>"
      ],
      "text/plain": [
       "               As of Date  Fiscal Year  Region Borrower Country  \\\n",
       "0  03/10/2016 12:00:00 AM         2000  Africa            China   \n",
       "\n",
       "  Borrower Country Code Project ID                   Project Name  \\\n",
       "0                    CN    P070995  Community Development Project   \n",
       "\n",
       "                           Procurement Type Procurement Category  \\\n",
       "0  Management Advice, Technical/Operation A  Consultant Services   \n",
       "\n",
       "                  Procurement Method Product line  \\\n",
       "0  International Competitive Bidding     IBRD/IDA   \n",
       "\n",
       "                              Major Sector  WB Contract Number  \\\n",
       "0  Public Administration, Law, and Justice             1211537   \n",
       "\n",
       "  Contract Description   Contract Signing Date               Supplier  \\\n",
       "0    MEDICAL EQUIPMENT  06/25/2003 12:00:00 AM  INDIVIDUAL CONSULTANT   \n",
       "\n",
       "  Supplier Country Supplier Country Code Total Contract Amount (USD)  \\\n",
       "0            India                    IN                   $12000.00   \n",
       "\n",
       "  Borrower Contract Reference Number  \n",
       "0                                  #  "
      ]
     },
     "execution_count": 7,
     "metadata": {},
     "output_type": "execute_result"
    }
   ],
   "source": [
    "df.mode()"
   ]
  },
  {
   "cell_type": "code",
   "execution_count": 8,
   "metadata": {
    "collapsed": false
   },
   "outputs": [
    {
     "data": {
      "text/plain": [
       "As of Date                               0\n",
       "Fiscal Year                              0\n",
       "Region                                   0\n",
       "Borrower Country                        14\n",
       "Borrower Country Code                   10\n",
       "Project ID                               0\n",
       "Project Name                             0\n",
       "Procurement Type                         0\n",
       "Procurement Category                     0\n",
       "Procurement Method                       0\n",
       "Product line                             0\n",
       "Major Sector                             0\n",
       "WB Contract Number                       0\n",
       "Contract Description                  2980\n",
       "Contract Signing Date                  203\n",
       "Supplier                                44\n",
       "Supplier Country                         0\n",
       "Supplier Country Code                   17\n",
       "Total Contract Amount (USD)              0\n",
       "Borrower Contract Reference Number    6819\n",
       "dtype: int64"
      ]
     },
     "execution_count": 8,
     "metadata": {},
     "output_type": "execute_result"
    }
   ],
   "source": [
    "df.isnull().sum()"
   ]
  },
  {
   "cell_type": "code",
   "execution_count": 9,
   "metadata": {
    "collapsed": true
   },
   "outputs": [],
   "source": []
  },
  {
   "cell_type": "code",
   "execution_count": 10,
   "metadata": {
    "collapsed": false
   },
   "outputs": [
    {
     "name": "stdout",
     "output_type": "stream",
     "text": [
      "Borrower Country\n",
      "Borrower Country Code\n",
      "Contract Description\n",
      "Contract Signing Date\n",
      "Supplier\n",
      "Supplier Country Code\n",
      "Borrower Contract Reference Number\n"
     ]
    }
   ],
   "source": [
    "fill_missing_values()"
   ]
  },
  {
   "cell_type": "code",
   "execution_count": null,
   "metadata": {
    "collapsed": false
   },
   "outputs": [],
   "source": [
    "df_mean = df.fillna(df.mean())"
   ]
  },
  {
   "cell_type": "code",
   "execution_count": 10,
   "metadata": {
    "collapsed": false
   },
   "outputs": [
    {
     "data": {
      "text/plain": [
       "<matplotlib.axes._subplots.AxesSubplot at 0x10cc9a490>"
      ]
     },
     "execution_count": 10,
     "metadata": {},
     "output_type": "execute_result"
    },
    {
     "data": {
      "image/png": "[encoded data removed]",
      "text/plain": [
       "<matplotlib.figure.Figure at 0x10240d610>"
      ]
     },
     "metadata": {},
     "output_type": "display_data"
    }
   ],
   "source": [
    "fig, ax = plt.subplots()\n",
    "df['Region'].value_counts().plot(ax=ax, kind='bar')"
   ]
  },
  {
   "cell_type": "code",
   "execution_count": null,
   "metadata": {
    "collapsed": true
   },
   "outputs": [],
   "source": [
    "fig, ax = plt.subplots()\n",
    "df['Total Contract Amount (USD)'].value_counts().plot(ax=ax, kind='bar')"
   ]
  },
  {
   "cell_type": "code",
   "execution_count": 14,
   "metadata": {
    "collapsed": false
   },
   "outputs": [
    {
     "data": {
      "text/plain": [
       "<matplotlib.axes._subplots.AxesSubplot at 0x106f32f50>"
      ]
     },
     "execution_count": 14,
     "metadata": {},
     "output_type": "execute_result"
    },
    {
     "data": {
      "image/png": "[encoded data removed]",
      "text/plain": [
       "<matplotlib.figure.Figure at 0x106981d50>"
      ]
     },
     "metadata": {},
     "output_type": "display_data"
    }
   ],
   "source": [
    "fig, ax = plt.subplots()\n",
    "df['Fiscal Year'].value_counts().plot(ax=ax, kind='bar')"
   ]
  },
  {
   "cell_type": "code",
   "execution_count": 13,
   "metadata": {
    "collapsed": false
   },
   "outputs": [
    {
     "data": {
      "text/plain": [
       "<matplotlib.axes._subplots.AxesSubplot at 0x1070dc190>"
      ]
     },
     "execution_count": 13,
     "metadata": {},
     "output_type": "execute_result"
    },
    {
     "data": {
      "image/png": "[encoded data removed]",
      "text/plain": [
       "<matplotlib.figure.Figure at 0x1071f4e50>"
      ]
     },
     "metadata": {},
     "output_type": "display_data"
    }
   ],
   "source": [
    "fig, ax = plt.subplots()\n",
    "df[\"Procurement Category\"].value_counts().plot(ax=ax, kind='bar')"
   ]
  },
  {
   "cell_type": "code",
   "execution_count": 12,
   "metadata": {
    "collapsed": false
   },
   "outputs": [
    {
     "data": {
      "text/plain": [
       "<matplotlib.axes._subplots.AxesSubplot at 0x106935290>"
      ]
     },
     "execution_count": 12,
     "metadata": {},
     "output_type": "execute_result"
    },
    {
     "data": {
      "image/png": "[encoded data removed]",
      "text/plain": [
       "<matplotlib.figure.Figure at 0x10695b490>"
      ]
     },
     "metadata": {},
     "output_type": "display_data"
    }
   ],
   "source": [
    "fig, ax = plt.subplots()\n",
    "df[\"Product line\"].value_counts().plot(ax=ax, kind='bar')"
   ]
  },
  {
   "cell_type": "code",
   "execution_count": 11,
   "metadata": {
    "collapsed": false
   },
   "outputs": [
    {
     "data": {
      "text/plain": [
       "<matplotlib.axes._subplots.AxesSubplot at 0x10cc76d90>"
      ]
     },
     "execution_count": 11,
     "metadata": {},
     "output_type": "execute_result"
    },
    {
     "data": {
      "image/png": "[encoded data removed]",
      "text/plain": [
       "<matplotlib.figure.Figure at 0x1039987d0>"
      ]
     },
     "metadata": {},
     "output_type": "display_data"
    }
   ],
   "source": [
    "fig, ax = plt.subplots()\n",
    "df[\"Major Sector\"].value_counts().plot(ax=ax, kind='bar')"
   ]
  },
  {
   "cell_type": "code",
   "execution_count": null,
   "metadata": {
    "collapsed": true
   },
   "outputs": [],
   "source": [
    "def impute_missing_all(data):\n",
    "    for name in list(data.columns):\n",
    "        if data[name].isnull().values.any():\n",
    "            data[name] = data[name].fillna(data[name].mean())"
   ]
  },
  {
   "cell_type": "code",
   "execution_count": null,
   "metadata": {
    "collapsed": true
   },
   "outputs": [],
   "source": [
    "dfcorrelations = df.corr()"
   ]
  }
 ],
 "metadata": {
  "kernelspec": {
   "display_name": "Python 2",
   "language": "python",
   "name": "python2"
  },
  "language_info": {
   "codemirror_mode": {
    "name": "ipython",
    "version": 2
   },
   "file_extension": ".py",
   "mimetype": "text/x-python",
   "name": "python",
   "nbconvert_exporter": "python",
   "pygments_lexer": "ipython2",
   "version": "2.7.9"
  }
 },
 "nbformat": 4,
 "nbformat_minor": 0
}
